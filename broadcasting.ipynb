{
 "cells": [
  {
   "cell_type": "code",
   "execution_count": 28,
   "id": "b878f867",
   "metadata": {},
   "outputs": [
    {
     "name": "stdout",
     "output_type": "stream",
     "text": [
      "[[9 2 3]\n",
      " [9 5 8]\n",
      " [6 4 5]]\n",
      "[[1 8 7]\n",
      " [8 4 4]\n",
      " [3 5 5]]\n"
     ]
    }
   ],
   "source": [
    "import numpy as np\n",
    "\n",
    "x = np.random.randint(1, 10, (3, 3))\n",
    "y = np.random.randint(1, 10, (3, 3))\n",
    "print(x)\n",
    "print(y)"
   ]
  },
  {
   "cell_type": "code",
   "execution_count": 29,
   "id": "f0f0ad97",
   "metadata": {},
   "outputs": [
    {
     "name": "stdout",
     "output_type": "stream",
     "text": [
      "[[ 8 -6 -4]\n",
      " [ 1  1  4]\n",
      " [ 3 -1  0]]\n"
     ]
    }
   ],
   "source": [
    "ans = x - y\n",
    "print(ans)"
   ]
  },
  {
   "cell_type": "code",
   "execution_count": 30,
   "id": "45ec4b3b",
   "metadata": {},
   "outputs": [
    {
     "name": "stdout",
     "output_type": "stream",
     "text": [
      "[[4 1 7]\n",
      " [5 2 9]\n",
      " [2 1 4]]\n",
      "[8 5 3]\n"
     ]
    }
   ],
   "source": [
    "x = np.random.randint(1, 10, (3, 3))\n",
    "y = np.random.randint(1, 10, (3))\n",
    "print(x)\n",
    "print(y)"
   ]
  },
  {
   "cell_type": "code",
   "execution_count": 31,
   "id": "206a4aaf",
   "metadata": {},
   "outputs": [
    {
     "name": "stdout",
     "output_type": "stream",
     "text": [
      "[[-4 -4  4]\n",
      " [-3 -3  6]\n",
      " [-6 -4  1]]\n"
     ]
    }
   ],
   "source": [
    "ans = x - y\n",
    "print(ans)"
   ]
  },
  {
   "cell_type": "code",
   "execution_count": 32,
   "id": "29bc2332",
   "metadata": {},
   "outputs": [
    {
     "name": "stdout",
     "output_type": "stream",
     "text": [
      "[[2 8]\n",
      " [5 5]\n",
      " [2 4]]\n",
      "[[9 8 1]\n",
      " [9 5 2]]\n"
     ]
    }
   ],
   "source": [
    "x = np.random.randint(1, 10, (3, 2))\n",
    "y = np.random.randint(1, 10, (2, 3))\n",
    "print(x)\n",
    "print(y)"
   ]
  },
  {
   "cell_type": "code",
   "execution_count": 33,
   "id": "21d13f4b",
   "metadata": {},
   "outputs": [
    {
     "name": "stdout",
     "output_type": "stream",
     "text": [
      "[[9 9]\n",
      " [8 5]\n",
      " [1 2]]\n",
      "[[-7 -1]\n",
      " [-3  0]\n",
      " [ 1  2]]\n"
     ]
    }
   ],
   "source": [
    "y = np.transpose(y)\n",
    "print(y)\n",
    "ans = x - y\n",
    "print(ans)"
   ]
  }
 ],
 "metadata": {
  "kernelspec": {
   "display_name": "Python 3 (ipykernel)",
   "language": "python",
   "name": "python3"
  },
  "language_info": {
   "codemirror_mode": {
    "name": "ipython",
    "version": 3
   },
   "file_extension": ".py",
   "mimetype": "text/x-python",
   "name": "python",
   "nbconvert_exporter": "python",
   "pygments_lexer": "ipython3",
   "version": "3.9.13"
  }
 },
 "nbformat": 4,
 "nbformat_minor": 5
}
