{
 "cells": [
  {
   "cell_type": "code",
   "execution_count": 14,
   "id": "3fd72ece",
   "metadata": {},
   "outputs": [
    {
     "name": "stdout",
     "output_type": "stream",
     "text": [
      "[[19 12 16 18  9]\n",
      " [ 6  5 17  4 17]\n",
      " [18 18 12  4 14]\n",
      " [ 3 10 12  1 18]]\n"
     ]
    }
   ],
   "source": [
    "import numpy as np\n",
    "x = np.random.randint(1, 20, (4, 5))\n",
    "print(x)"
   ]
  },
  {
   "cell_type": "code",
   "execution_count": 15,
   "id": "f7b8c4c6",
   "metadata": {},
   "outputs": [
    {
     "name": "stdout",
     "output_type": "stream",
     "text": [
      "[[ 3 10 12  1 18]\n",
      " [ 6  5 17  4 17]\n",
      " [18 18 12  4 14]\n",
      " [19 12 16 18  9]]\n"
     ]
    }
   ],
   "source": [
    "x = x[x[:, 0].argsort()]\n",
    "print(x)"
   ]
  }
 ],
 "metadata": {
  "kernelspec": {
   "display_name": "Python 3 (ipykernel)",
   "language": "python",
   "name": "python3"
  },
  "language_info": {
   "codemirror_mode": {
    "name": "ipython",
    "version": 3
   },
   "file_extension": ".py",
   "mimetype": "text/x-python",
   "name": "python",
   "nbconvert_exporter": "python",
   "pygments_lexer": "ipython3",
   "version": "3.9.13"
  }
 },
 "nbformat": 4,
 "nbformat_minor": 5
}
