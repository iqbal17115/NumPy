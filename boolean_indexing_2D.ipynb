{
 "cells": [
  {
   "cell_type": "code",
   "execution_count": 112,
   "id": "9913c8f6",
   "metadata": {},
   "outputs": [
    {
     "name": "stdout",
     "output_type": "stream",
     "text": [
      "[[ 6 23 25 25 11 20]\n",
      " [29 23 17 18 26 25]\n",
      " [29 18  6  5 11  9]\n",
      " [13  9 11  9 27 11]\n",
      " [ 2  5 26 17  1 16]]\n"
     ]
    }
   ],
   "source": [
    "import numpy as np\n",
    "\n",
    "a = np.random.randint(1, 30, (5, 6))\n",
    "print(a)"
   ]
  },
  {
   "cell_type": "code",
   "execution_count": 113,
   "id": "53eb76a5",
   "metadata": {},
   "outputs": [
    {
     "name": "stdout",
     "output_type": "stream",
     "text": [
      "[[False  True  True  True False False]\n",
      " [ True  True False False  True  True]\n",
      " [ True False False False False False]\n",
      " [False False False False  True False]\n",
      " [False False  True False False False]]\n"
     ]
    }
   ],
   "source": [
    "boolean_arr = a > 20\n",
    "print(boolean_arr)"
   ]
  },
  {
   "cell_type": "code",
   "execution_count": 114,
   "id": "5e7bcda2",
   "metadata": {},
   "outputs": [
    {
     "name": "stdout",
     "output_type": "stream",
     "text": [
      "[23 25 25 29 23 26 25 29 27 26]\n"
     ]
    }
   ],
   "source": [
    "ans = a[boolean_arr]\n",
    "print(ans)"
   ]
  },
  {
   "cell_type": "code",
   "execution_count": 115,
   "id": "f0d8a1e1",
   "metadata": {},
   "outputs": [
    {
     "name": "stdout",
     "output_type": "stream",
     "text": [
      "[[ 6 23 25 25 11 20]\n",
      " [29 23 17 18 26 25]\n",
      " [29 18  6  5 11  9]\n",
      " [13  9 11  9 27 11]\n",
      " [ 2  5 26 17  1 16]]\n"
     ]
    }
   ],
   "source": [
    "b = a\n",
    "print(b)"
   ]
  },
  {
   "cell_type": "code",
   "execution_count": 116,
   "id": "1a29c2fe",
   "metadata": {},
   "outputs": [
    {
     "name": "stdout",
     "output_type": "stream",
     "text": [
      "[[ 6 50 50 50 11 20]\n",
      " [50 50 17 18 50 50]\n",
      " [50 18  6  5 11  9]\n",
      " [13  9 11  9 50 11]\n",
      " [ 2  5 50 17  1 16]]\n"
     ]
    }
   ],
   "source": [
    "b[boolean_arr] = 50\n",
    "print(b)"
   ]
  },
  {
   "cell_type": "code",
   "execution_count": 117,
   "id": "2fd23d42",
   "metadata": {},
   "outputs": [
    {
     "name": "stdout",
     "output_type": "stream",
     "text": [
      "[[9 7]\n",
      " [1 5]]\n"
     ]
    }
   ],
   "source": [
    "c = np.random.randint(1, 10, (2, 2))\n",
    "print(c)"
   ]
  },
  {
   "cell_type": "code",
   "execution_count": 118,
   "id": "a2eddc45",
   "metadata": {},
   "outputs": [
    {
     "name": "stdout",
     "output_type": "stream",
     "text": [
      "[[ True False]\n",
      " [False  True]\n",
      " [False False]]\n"
     ]
    }
   ],
   "source": [
    "c_bool = np.array([[True, False], [False, True], [False, False]])\n",
    "print(c_bool)"
   ]
  },
  {
   "cell_type": "code",
   "execution_count": 119,
   "id": "066f526a",
   "metadata": {},
   "outputs": [],
   "source": [
    "# print(c[c_bool])"
   ]
  },
  {
   "cell_type": "code",
   "execution_count": 120,
   "id": "543fddc6",
   "metadata": {
    "scrolled": true
   },
   "outputs": [
    {
     "name": "stdout",
     "output_type": "stream",
     "text": [
      "[[ 6 50 50 50 11 20]\n",
      " [50 50 17 18 50 50]\n",
      " [50 18  6  5 11  9]\n",
      " [13  9 11  9 50 11]\n",
      " [ 2  5 50 17  1 16]]\n"
     ]
    }
   ],
   "source": [
    "print(b)"
   ]
  },
  {
   "cell_type": "code",
   "execution_count": 121,
   "id": "96374dde",
   "metadata": {},
   "outputs": [
    {
     "name": "stdout",
     "output_type": "stream",
     "text": [
      "[ True False  True  True  True]\n"
     ]
    }
   ],
   "source": [
    "b[:, 3] == 50\n",
    "print(bool_arr)"
   ]
  },
  {
   "cell_type": "code",
   "execution_count": 122,
   "id": "ade8e873",
   "metadata": {},
   "outputs": [
    {
     "name": "stdout",
     "output_type": "stream",
     "text": [
      "[[ 6 50 50 50 11 20]\n",
      " [50 50 17 18 50 50]\n",
      " [50 18  6  5 11  9]\n",
      " [13  9 11  9 50 11]\n",
      " [ 2  5 50 17  1 16]]\n"
     ]
    }
   ],
   "source": [
    "b[bool_arr, 3] == 49\n",
    "print(b)"
   ]
  }
 ],
 "metadata": {
  "kernelspec": {
   "display_name": "Python 3 (ipykernel)",
   "language": "python",
   "name": "python3"
  },
  "language_info": {
   "codemirror_mode": {
    "name": "ipython",
    "version": 3
   },
   "file_extension": ".py",
   "mimetype": "text/x-python",
   "name": "python",
   "nbconvert_exporter": "python",
   "pygments_lexer": "ipython3",
   "version": "3.9.13"
  }
 },
 "nbformat": 4,
 "nbformat_minor": 5
}
