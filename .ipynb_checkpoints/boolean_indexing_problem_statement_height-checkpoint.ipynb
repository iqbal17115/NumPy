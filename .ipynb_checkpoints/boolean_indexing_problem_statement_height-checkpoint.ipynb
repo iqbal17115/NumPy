{
 "cells": [
  {
   "cell_type": "code",
   "execution_count": 44,
   "id": "ac34963d",
   "metadata": {},
   "outputs": [
    {
     "data": {
      "text/plain": [
       "array([(b'Iqbal', 28, 53.), (b'Rubel', 29, 74.), (b'Mamun', 27, 65.),\n",
       "       (b'Riad', 32, 80.), (b'Bipul', 29, 78.), (b'Rayhan', 26, 70.),\n",
       "       (b'Alamin', 25, 70.), (b'Titu', 27, 68.), (b'Parvez', 30, 74.),\n",
       "       (b'Nasir', 23, 65.), (b'Saon', 26, 81.), (b'Sumon', 28, 67.),\n",
       "       (b'Foysal', 24, 80.), (b'Babu', 26, 60.), (b'Rubel', 26, 69.),\n",
       "       (b'Rasel', 25, 85.), (b'Apon', 23, 63.), (b'Mijan', 28, 70.),\n",
       "       (b'Pavel', 27, 65.), (b'Monir', 27, 60.)],\n",
       "      dtype=[('name', 'S15'), ('age', '<i4'), ('height', '<f8')])"
      ]
     },
     "execution_count": 44,
     "metadata": {},
     "output_type": "execute_result"
    }
   ],
   "source": [
    "import numpy as np\n",
    "data_type = [('name', 'S15'), ('age', int), ('height', float)]\n",
    "students_arr = [\n",
    "   ('Iqbal', 28, 53),\n",
    "    ('Rubel', 29, 74),\n",
    "    ('Mamun', 27, 65),\n",
    "    ('Riad', 32, 80),\n",
    "    ('Bipul', 29, 78),\n",
    "    ('Rayhan', 26, 70),\n",
    "    ('Alamin', 25, 70),\n",
    "    ('Titu', 27, 68),\n",
    "    ('Parvez', 30, 74),\n",
    "    ('Nasir', 23, 65),\n",
    "    ('Saon', 26, 81),\n",
    "    ('Sumon', 28, 67),\n",
    "    ('Foysal', 24, 80),\n",
    "    ('Babu', 26, 60),\n",
    "    ('Rubel', 26, 69),\n",
    "    ('Rasel', 25, 85),\n",
    "    ('Apon', 23, 63),\n",
    "    ('Mijan', 28, 70),\n",
    "    ('Pavel', 27, 65),\n",
    "    ('Monir', 27, 60)\n",
    "]\n",
    "\n",
    "# create a structured array\n",
    "students = np.array(students_arr, dtype=data_type)  \n",
    "students"
   ]
  }
 ],
 "metadata": {
  "kernelspec": {
   "display_name": "Python 3 (ipykernel)",
   "language": "python",
   "name": "python3"
  },
  "language_info": {
   "codemirror_mode": {
    "name": "ipython",
    "version": 3
   },
   "file_extension": ".py",
   "mimetype": "text/x-python",
   "name": "python",
   "nbconvert_exporter": "python",
   "pygments_lexer": "ipython3",
   "version": "3.9.13"
  }
 },
 "nbformat": 4,
 "nbformat_minor": 5
}
