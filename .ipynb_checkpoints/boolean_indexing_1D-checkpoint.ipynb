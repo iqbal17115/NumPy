{
 "cells": [
  {
   "cell_type": "code",
   "execution_count": 175,
   "id": "fc2d6890",
   "metadata": {},
   "outputs": [],
   "source": [
    "import numpy as np\n",
    "\n",
    "a = np.array(['a', 'b', 'c', 'd', 'e'])\n",
    "b = np.random.randint(1, 20, 5)"
   ]
  },
  {
   "cell_type": "code",
   "execution_count": 176,
   "id": "28984432",
   "metadata": {},
   "outputs": [
    {
     "name": "stdout",
     "output_type": "stream",
     "text": [
      "['a' 'b' 'c' 'd' 'e']\n",
      "[17  3 10 12 12]\n"
     ]
    }
   ],
   "source": [
    "print(a)\n",
    "print(b)"
   ]
  },
  {
   "cell_type": "code",
   "execution_count": 177,
   "id": "ad946e5f",
   "metadata": {},
   "outputs": [
    {
     "name": "stdout",
     "output_type": "stream",
     "text": [
      "[17  3 10 12 12]\n",
      "[ True False False  True  True]\n",
      "[17 12 12]\n"
     ]
    }
   ],
   "source": [
    "print(b)\n",
    "bool_arr = b > 10\n",
    "print(bool_arr)\n",
    "b_arr = b[bool_arr]\n",
    "print(b_arr)"
   ]
  },
  {
   "cell_type": "code",
   "execution_count": 178,
   "id": "7472540b",
   "metadata": {},
   "outputs": [
    {
     "name": "stdout",
     "output_type": "stream",
     "text": [
      "[17 12 12]\n"
     ]
    }
   ],
   "source": [
    "b_arr = b[b > 10]\n",
    "print(b_arr)"
   ]
  },
  {
   "cell_type": "code",
   "execution_count": 179,
   "id": "9cf93209",
   "metadata": {},
   "outputs": [
    {
     "name": "stdout",
     "output_type": "stream",
     "text": [
      "[12 12]\n"
     ]
    }
   ],
   "source": [
    "b_arr = b[(b > 10) & (b<16)]\n",
    "print(b_arr)"
   ]
  },
  {
   "cell_type": "code",
   "execution_count": 180,
   "id": "57d8b134",
   "metadata": {},
   "outputs": [
    {
     "name": "stdout",
     "output_type": "stream",
     "text": [
      "[17  3 10 12 12]\n",
      "[17  3 10 12 12]\n"
     ]
    }
   ],
   "source": [
    "print(b)\n",
    "c = b\n",
    "print(c)"
   ]
  },
  {
   "cell_type": "code",
   "execution_count": 181,
   "id": "e4632a0d",
   "metadata": {},
   "outputs": [
    {
     "name": "stdout",
     "output_type": "stream",
     "text": [
      "[  2   2  10 100 100]\n"
     ]
    }
   ],
   "source": [
    "c[:2] = 2\n",
    "c[c > 10] = 100\n",
    "print(c)"
   ]
  },
  {
   "cell_type": "code",
   "execution_count": 182,
   "id": "0a4bf519",
   "metadata": {},
   "outputs": [
    {
     "name": "stdout",
     "output_type": "stream",
     "text": [
      "[  2   2  10 100 100]\n"
     ]
    }
   ],
   "source": [
    "print(b)"
   ]
  },
  {
   "cell_type": "code",
   "execution_count": 183,
   "id": "b239bd1d",
   "metadata": {},
   "outputs": [
    {
     "name": "stdout",
     "output_type": "stream",
     "text": [
      "[100 100]\n"
     ]
    }
   ],
   "source": [
    "print(b[b == 100])"
   ]
  },
  {
   "cell_type": "code",
   "execution_count": 184,
   "id": "7fd95454",
   "metadata": {},
   "outputs": [
    {
     "data": {
      "text/plain": [
       "(array([3, 4], dtype=int64),)"
      ]
     },
     "execution_count": 184,
     "metadata": {},
     "output_type": "execute_result"
    }
   ],
   "source": [
    "index = np.where(b == 100)\n",
    "index"
   ]
  },
  {
   "cell_type": "code",
   "execution_count": 185,
   "id": "dbc2d0f6",
   "metadata": {},
   "outputs": [
    {
     "name": "stdout",
     "output_type": "stream",
     "text": [
      "['a' 'b' 'c' 'd' 'e']\n",
      "[  2   2  10 100 100]\n"
     ]
    }
   ],
   "source": [
    "print(a)\n",
    "print(b)"
   ]
  },
  {
   "cell_type": "code",
   "execution_count": 186,
   "id": "039529a1",
   "metadata": {},
   "outputs": [
    {
     "name": "stdout",
     "output_type": "stream",
     "text": [
      "['d' 'e']\n",
      "[100 100]\n"
     ]
    }
   ],
   "source": [
    "index = np.where(b == 100)\n",
    "index\n",
    "print(a[index])\n",
    "print(b[index])"
   ]
  }
 ],
 "metadata": {
  "kernelspec": {
   "display_name": "Python 3 (ipykernel)",
   "language": "python",
   "name": "python3"
  },
  "language_info": {
   "codemirror_mode": {
    "name": "ipython",
    "version": 3
   },
   "file_extension": ".py",
   "mimetype": "text/x-python",
   "name": "python",
   "nbconvert_exporter": "python",
   "pygments_lexer": "ipython3",
   "version": "3.9.13"
  }
 },
 "nbformat": 4,
 "nbformat_minor": 5
}
